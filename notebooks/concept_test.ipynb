{
 "cells": [
  {
   "cell_type": "markdown",
   "metadata": {},
   "source": [
    "# Test with querying narrower concepts\n",
    "\n",
    "First we import SPARQLWrapper"
   ]
  },
  {
   "cell_type": "code",
   "execution_count": 103,
   "metadata": {},
   "outputs": [],
   "source": [
    "import SPARQLWrapper"
   ]
  },
  {
   "cell_type": "markdown",
   "metadata": {},
   "source": [
    "Then we define what concept we're interested in"
   ]
  },
  {
   "cell_type": "code",
   "execution_count": 104,
   "metadata": {},
   "outputs": [],
   "source": [
    "concept = \"http://stad.gent/id/concepts/decision_making_themes/concept_20\""
   ]
  },
  {
   "cell_type": "markdown",
   "metadata": {},
   "source": [
    "Then we can create our endpoint and query"
   ]
  },
  {
   "cell_type": "code",
   "execution_count": 105,
   "metadata": {},
   "outputs": [],
   "source": [
    "stadgent = SPARQLWrapper.SPARQLWrapper(\"https://stad.gent/sparql\")\n",
    "stadgent.setReturnFormat(SPARQLWrapper.JSON)"
   ]
  },
  {
   "cell_type": "markdown",
   "metadata": {},
   "source": [
    "Now we can wrap the querying in a function, so we can easily call it repeatedly"
   ]
  },
  {
   "cell_type": "code",
   "execution_count": 106,
   "metadata": {},
   "outputs": [],
   "source": [
    "def get_narrower(concept):\n",
    "    query = \"\"\"\n",
    "        PREFIX skos: <http://www.w3.org/2004/02/skos/core#>\n",
    "\n",
    "        SELECT *\n",
    "        WHERE {\n",
    "        <%s>    skos:prefLabel ?label;\n",
    "                skos:narrower ?narrower.\n",
    "        ?narrower skos:prefLabel ?narrowerLabel .\n",
    "        }\n",
    "    \"\"\" % concept\n",
    "\n",
    "    stadgent.setQuery(query)\n",
    "\n",
    "    results = stadgent.query().convert()\n",
    "\n",
    "    narrower = {}\n",
    "\n",
    "    for result in results[\"results\"][\"bindings\"]:\n",
    "        narrower[result[\"narrower\"][\"value\"]] = result[\"narrowerLabel\"][\"value\"]\n",
    "    \n",
    "    if len(narrower) == 0:\n",
    "        return None\n",
    "    return narrower"
   ]
  },
  {
   "cell_type": "markdown",
   "metadata": {},
   "source": [
    "Now we can run the function, and get the first concept"
   ]
  },
  {
   "cell_type": "code",
   "execution_count": 107,
   "metadata": {},
   "outputs": [
    {
     "name": "stdout",
     "output_type": "stream",
     "text": [
      "{'http://stad.gent/id/concepts/decision_making_themes/concept_21': 'Parkeren', 'http://stad.gent/id/concepts/decision_making_themes/concept_28': 'Openbare weg en pleinen', 'http://stad.gent/id/concepts/decision_making_themes/concept_29': 'Nutsvoorzieningen', 'http://stad.gent/id/concepts/decision_making_themes/concept_30': 'Mobiliteit', 'http://stad.gent/id/concepts/decision_making_themes/concept_34': 'Straatnaamgeving', 'http://stad.gent/id/concepts/decision_making_themes/concept_35': 'Straatverlichting', 'http://stad.gent/id/concepts/decision_making_themes/concept_36': 'Wegenregister'}\n"
     ]
    }
   ],
   "source": [
    "concepts = get_narrower(concept)\n",
    "\n",
    "print(concepts)"
   ]
  },
  {
   "cell_type": "markdown",
   "metadata": {},
   "source": [
    "After we've now gotten the first level, we can use a recursive function to get all the levels"
   ]
  },
  {
   "cell_type": "code",
   "execution_count": 108,
   "metadata": {},
   "outputs": [],
   "source": [
    "def get_all_narrower(concept):\n",
    "    narrower = get_narrower(concept)\n",
    "    if narrower == None:\n",
    "        return\n",
    "    for narrower_concept in narrower:\n",
    "        concepts[narrower_concept] = narrower[narrower_concept]\n",
    "        get_all_narrower(narrower_concept)"
   ]
  },
  {
   "cell_type": "markdown",
   "metadata": {},
   "source": [
    "Now we can run the recursive function, and get all the levels and print them out"
   ]
  },
  {
   "cell_type": "code",
   "execution_count": 109,
   "metadata": {},
   "outputs": [
    {
     "name": "stdout",
     "output_type": "stream",
     "text": [
      "{'http://stad.gent/id/concepts/decision_making_themes/concept_21': 'Parkeren', 'http://stad.gent/id/concepts/decision_making_themes/concept_28': 'Openbare weg en pleinen', 'http://stad.gent/id/concepts/decision_making_themes/concept_29': 'Nutsvoorzieningen', 'http://stad.gent/id/concepts/decision_making_themes/concept_30': 'Mobiliteit', 'http://stad.gent/id/concepts/decision_making_themes/concept_34': 'Straatnaamgeving', 'http://stad.gent/id/concepts/decision_making_themes/concept_35': 'Straatverlichting', 'http://stad.gent/id/concepts/decision_making_themes/concept_36': 'Wegenregister', 'http://stad.gent/id/concepts/decision_making_themes/concept_22': 'Bewonersparkeren', 'http://stad.gent/id/concepts/decision_making_themes/concept_23': 'Park and ride', 'http://stad.gent/id/concepts/decision_making_themes/concept_24': 'Parkeergarages', 'http://stad.gent/id/concepts/decision_making_themes/concept_25': 'Parkeerretributies en parkeerboetes', 'http://stad.gent/id/concepts/decision_making_themes/concept_26': 'Straatparkeren', 'http://stad.gent/id/concepts/decision_making_themes/concept_27': 'Vergunningen', 'http://stad.gent/id/concepts/decision_making_themes/concept_31': 'Autodelen of fietsdelen', 'http://stad.gent/id/concepts/decision_making_themes/concept_32': 'Verkeerveiligheid', 'http://stad.gent/id/concepts/decision_making_themes/concept_33': 'Openbaar vervoer'}\n"
     ]
    }
   ],
   "source": [
    "get_all_narrower(concept)\n",
    "\n",
    "print(concepts)"
   ]
  }
 ],
 "metadata": {
  "kernelspec": {
   "display_name": "Python 3",
   "language": "python",
   "name": "python3"
  },
  "language_info": {
   "codemirror_mode": {
    "name": "ipython",
    "version": 3
   },
   "file_extension": ".py",
   "mimetype": "text/x-python",
   "name": "python",
   "nbconvert_exporter": "python",
   "pygments_lexer": "ipython3",
   "version": "3.12.4"
  }
 },
 "nbformat": 4,
 "nbformat_minor": 2
}
